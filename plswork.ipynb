{
 "cells": [
  {
   "cell_type": "code",
   "execution_count": 9,
   "metadata": {},
   "outputs": [],
   "source": [
    "import folium\n",
    "import pandas as pd\n",
    "myMap = folium.Map(location = [42.3601, -71.0589], zoom_start = 12)\n",
    "myMap\n",
    "\n",
    "cities = pd.read_csv(r'filename.csv')\n",
    "cities.head()\n",
    "\n",
    "#adding a marker to the first index of the csv\n",
    "city = cities.loc[0]\n",
    "folium.Marker(\n",
    "    location = [city['Latitude'], city['Longtitude']], tooltip = \"Click Me!\"\n",
    "    ).add_to(myMap)\n",
    "myMap\n",
    "\n",
    "#adding a marker to the every index of the csv\n",
    "myMap = folium.Map(location = [42.3601, -71.0589], zoom_start = 12)\n",
    "\n",
    "for _, city in cities.iterrows():\n",
    "    folium.Marker(\n",
    "    location = [city['Latitude'], city['Longtitude']], tooltip = \"Click Me!\",\n",
    "    popup = city['City']\n",
    "    ).add_to(myMap)\n",
    "myMap\n",
    "\n",
    "#adding a marker to the every index of the csv\n",
    "def select_marker_color(row):\n",
    "    if row ['Lived'] == 'Yes':\n",
    "        return 'pink' #color arguments needs to be lowercase \n",
    "    elif row['Lived'] == 'No' and row['Visited'] == 'Yes':\n",
    "        return 'blue'\n",
    "    return 'red'\n",
    "\n",
    "cities['Color'] = cities.apply(select_marker_color, axis = 1)\n",
    "cities.head(5)\n",
    "\n",
    "myMap = folium.Map(location = [42.3601, -71.0589], zoom_start = 12)\n",
    "\n",
    "for _, city in cities.iterrows():\n",
    "    folium.Marker(\n",
    "    location = [city['Latitude'], city['Longtitude']], tooltip = \"Click Me!\",\n",
    "    popup = city['City'],\n",
    "    icon = folium.Icon(color=city['Color'])\n",
    "    ).add_to(myMap)\n",
    "myMap\n",
    "myMap.save(r'filename.html')\n"
   ]
  }
 ],
 "metadata": {
  "kernelspec": {
   "display_name": "Python 3.7.3 32-bit",
   "language": "python",
   "name": "python3"
  },
  "language_info": {
   "codemirror_mode": {
    "name": "ipython",
    "version": 3
   },
   "file_extension": ".py",
   "mimetype": "text/x-python",
   "name": "python",
   "nbconvert_exporter": "python",
   "pygments_lexer": "ipython3",
   "version": "3.7.3"
  },
  "orig_nbformat": 4,
  "vscode": {
   "interpreter": {
    "hash": "88d43018130af858858b2be9ec3bd2508b5ba2617bb54ddc01f8a6a1eed4a4e2"
   }
  }
 },
 "nbformat": 4,
 "nbformat_minor": 2
}
