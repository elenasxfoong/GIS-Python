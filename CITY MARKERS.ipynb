import folium
import pandas as pd
myMap = folium.Map(location = [42.3601, -71.0589], zoom_start = 12)
myMap

cities = pd.read_csv(r'filename.csv')
cities.head()

#adding a marker to the first index of the csv
city = cities.loc[0]
folium.Marker(
    location = [city['Latitude'], city['Longtitude']], tooltip = "Click Me!"
    ).add_to(myMap)
myMap


#adding a marker to the every index of the csv
myMap = folium.Map(location = [42.3601, -71.0589], zoom_start = 12)
for _, city in cities.iterrows():
    folium.Marker(
    location = [city['Latitude'], city['Longtitude']], tooltip = "Click Me!",
    popup = city['City']
    ).add_to(myMap)
myMap

#changing color of markers
def select_marker_color(row):
    if row ['Lived'] == 'Yes':
        return 'pink' #color arguments needs to be lowercase 
    elif row['Lived'] == 'No' and row['Visited'] == 'Yes':
        return 'blue'
    return 'red'

cities['Color'] = cities.apply(select_marker_color, axis = 1)
cities.head(5)

myMap = folium.Map(location = [42.3601, -71.0589], zoom_start = 12)

for _, city in cities.iterrows():
    folium.Marker(
    location = [city['Latitude'], city['Longtitude']], tooltip = "Click Me!",
    popup = city['City'],
    icon = folium.Icon(color=city['Color'])
    ).add_to(myMap)
myMap

#saving as html file
myMap.save(r'filename.html')
